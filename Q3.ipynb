{
  "nbformat": 4,
  "nbformat_minor": 0,
  "metadata": {
    "colab": {
      "provenance": [],
      "authorship_tag": "ABX9TyNWrS/w4lhT5ByYd7OnS+q9",
      "include_colab_link": true
    },
    "kernelspec": {
      "name": "python3",
      "display_name": "Python 3"
    },
    "language_info": {
      "name": "python"
    }
  },
  "cells": [
    {
      "cell_type": "markdown",
      "metadata": {
        "id": "view-in-github",
        "colab_type": "text"
      },
      "source": [
        "<a href=\"https://colab.research.google.com/github/Adeelzafar/Recruitment-AI/blob/main/Q3.ipynb\" target=\"_parent\"><img src=\"https://colab.research.google.com/assets/colab-badge.svg\" alt=\"Open In Colab\"/></a>"
      ]
    },
    {
      "cell_type": "code",
      "execution_count": 4,
      "metadata": {
        "colab": {
          "base_uri": "https://localhost:8080/"
        },
        "id": "uUdJPBpW9Vea",
        "outputId": "c800a84e-f8c1-49df-b59c-8299608bbe4e"
      },
      "outputs": [
        {
          "output_type": "stream",
          "name": "stdout",
          "text": [
            "Median =  2.5\n"
          ]
        }
      ],
      "source": [
        "def Solution(arr):\n",
        " \n",
        "    n = len(arr)\n",
        " \n",
        "    \n",
        "    if n % 2 == 0:\n",
        "        z = n // 2\n",
        "        e = arr[z]\n",
        "        q = arr[z - 1]\n",
        "        ans = (e + q) / 2\n",
        "        return ans\n",
        "         \n",
        "\n",
        "    else:\n",
        "        z = n // 2\n",
        "        ans = arr[z]\n",
        "        return ans\n",
        " \n",
        "\n",
        "if __name__ == \"__main__\":\n",
        "     \n",
        "    array1 = [ 1,2]\n",
        "    array2 = [ 3,4 ]\n",
        " \n",
        "\n",
        "    array3 = array1 + array2\n",
        " \n",
        " \n",
        "    array3.sort()\n",
        " \n",
        "    print(\"Median = \", Solution(array3))\n",
        "     \n"
      ]
    },
    {
      "cell_type": "code",
      "source": [],
      "metadata": {
        "id": "6wPwtXs0CMGj"
      },
      "execution_count": null,
      "outputs": []
    }
  ]
}