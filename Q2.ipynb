{
  "nbformat": 4,
  "nbformat_minor": 0,
  "metadata": {
    "colab": {
      "provenance": [],
      "authorship_tag": "ABX9TyNkLUzlCYSAv7cvUFdxeHUv",
      "include_colab_link": true
    },
    "kernelspec": {
      "name": "python3",
      "display_name": "Python 3"
    },
    "language_info": {
      "name": "python"
    }
  },
  "cells": [
    {
      "cell_type": "markdown",
      "metadata": {
        "id": "view-in-github",
        "colab_type": "text"
      },
      "source": [
        "<a href=\"https://colab.research.google.com/github/Adeelzafar/Recruitment-AI/blob/main/Q2.ipynb\" target=\"_parent\"><img src=\"https://colab.research.google.com/assets/colab-badge.svg\" alt=\"Open In Colab\"/></a>"
      ]
    },
    {
      "cell_type": "code",
      "execution_count": 1,
      "metadata": {
        "colab": {
          "base_uri": "https://localhost:8080/"
        },
        "id": "uUdJPBpW9Vea",
        "outputId": "cfdc2310-6007-4ed8-c0e7-c9f86a337bd5"
      },
      "outputs": [
        {
          "output_type": "stream",
          "name": "stdout",
          "text": [
            "***** Linked List Before deletion *****\n",
            "1\n",
            "2\n",
            "3\n",
            "4\n",
            "5\n",
            "************** Delete nth Node from the End *****\n",
            "*********** Linked List after Deletion *****\n",
            "1\n",
            "2\n",
            "3\n",
            "5\n"
          ]
        }
      ],
      "source": [
        "class Node:\n",
        "    def __init__(self, data):\n",
        "        self.data = data\n",
        "        self.next = None\n",
        " \n",
        " \n",
        "class LinkedList:\n",
        "    def __init__(self):\n",
        "        self.head = None\n",
        " \n",
        "    def push(self, data):\n",
        "        new_node = Node(data)\n",
        "        new_node.next = self.head\n",
        "        self.head = new_node\n",
        " \n",
        "    def display(self):\n",
        "        temp = self.head\n",
        "        while temp != None:\n",
        "            print(temp.data)\n",
        "            temp = temp.next\n",
        " \n",
        "    def deleteNthNodeFromEnd(self, head, n):\n",
        "        fast = head\n",
        "        slow = head\n",
        " \n",
        "        for _ in range(n):\n",
        "            fast = fast.next\n",
        " \n",
        "        if not fast:\n",
        "            return head.next\n",
        " \n",
        "        while fast.next:\n",
        "            fast = fast.next\n",
        "            slow = slow.next\n",
        " \n",
        "        slow.next = slow.next.next\n",
        "        return head\n",
        " \n",
        " \n",
        "if __name__ == '__main__':\n",
        "    l = LinkedList()\n",
        "    l.push(5)\n",
        "    l.push(4)\n",
        "    l.push(3)\n",
        "    l.push(2)\n",
        "    l.push(1)\n",
        "    print('***** Linked List Before deletion *****')\n",
        "    l.display()\n",
        " \n",
        "    print('************** Delete nth Node from the End *****')\n",
        "    l.deleteNthNodeFromEnd(l.head, 2)\n",
        " \n",
        "    print('*********** Linked List after Deletion *****')\n",
        "    l.display()"
      ]
    },
    {
      "cell_type": "code",
      "source": [],
      "metadata": {
        "id": "6wPwtXs0CMGj"
      },
      "execution_count": null,
      "outputs": []
    }
  ]
}