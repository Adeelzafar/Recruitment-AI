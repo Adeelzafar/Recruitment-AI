{
  "nbformat": 4,
  "nbformat_minor": 0,
  "metadata": {
    "colab": {
      "provenance": [],
      "authorship_tag": "ABX9TyPNL+DWscC+QIApScdsrf2I",
      "include_colab_link": true
    },
    "kernelspec": {
      "name": "python3",
      "display_name": "Python 3"
    },
    "language_info": {
      "name": "python"
    }
  },
  "cells": [
    {
      "cell_type": "markdown",
      "metadata": {
        "id": "view-in-github",
        "colab_type": "text"
      },
      "source": [
        "<a href=\"https://colab.research.google.com/github/Adeelzafar/Recruitment-AI/blob/main/Q1.ipynb\" target=\"_parent\"><img src=\"https://colab.research.google.com/assets/colab-badge.svg\" alt=\"Open In Colab\"/></a>"
      ]
    },
    {
      "cell_type": "code",
      "execution_count": null,
      "metadata": {
        "id": "uUdJPBpW9Vea"
      },
      "outputs": [],
      "source": [
        "def fact(n):\n",
        "    \n",
        "    if n <= 1:\n",
        "        return 1\n",
        "    return n * fact(n - 1)\n",
        "\n",
        "\n",
        "def count_digits(n):\n",
        "    \n",
        "    factorial = fact(n)\n",
        "    total = 0\n",
        "    for digit in str(factorial):\n",
        "        #print (digit)\n",
        "        total += int(digit)\n",
        "    return total\n",
        "\n",
        "\n",
        "if __name__ == '__main__':\n",
        "    print(count_digits(100))\n"
      ]
    }
  ]
}